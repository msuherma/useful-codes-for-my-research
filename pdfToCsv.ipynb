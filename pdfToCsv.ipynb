{
 "cells": [
  {
   "cell_type": "markdown",
   "metadata": {},
   "source": [
    "# `pdfToCsv`\n",
    "\n",
    "This code is used to scrap tables found in PDF to csv.\n",
    "\n",
    "The file I use here is from Government of Indonesia (GOI) as found here: [Indonesian Energy Mix](https://den.go.id/index.php/publikasi/index/BauranEnergi)\n",
    "\n",
    "\n",
    "Read more on scrapping tables from PDF [here](https://towardsdatascience.com/scraping-table-data-from-pdf-files-using-a-single-line-in-python-8607880c750), or [here](http://theautomatic.net/2019/05/24/3-ways-to-scrape-tables-from-pdfs-with-python/)"
   ]
  },
  {
   "cell_type": "code",
   "execution_count": 2,
   "metadata": {},
   "outputs": [],
   "source": [
    "import tabula"
   ]
  },
  {
   "cell_type": "code",
   "execution_count": 3,
   "metadata": {},
   "outputs": [
    {
     "name": "stderr",
     "output_type": "stream",
     "text": [
      "Got stderr: Apr 05, 2021 2:24:33 PM org.apache.pdfbox.pdmodel.graphics.color.PDICCBased ensureDisplayProfile\n",
      "WARNING: ICC profile is Perceptual, ignoring, treating as Display class\n",
      "Apr 05, 2021 2:24:34 PM org.apache.pdfbox.pdmodel.graphics.color.PDICCBased ensureDisplayProfile\n",
      "WARNING: ICC profile is Perceptual, ignoring, treating as Display class\n",
      "Apr 05, 2021 2:24:39 PM org.apache.pdfbox.pdmodel.graphics.color.PDICCBased ensureDisplayProfile\n",
      "WARNING: ICC profile is Perceptual, ignoring, treating as Display class\n",
      "Apr 05, 2021 2:24:39 PM org.apache.pdfbox.pdmodel.graphics.color.PDICCBased ensureDisplayProfile\n",
      "WARNING: ICC profile is Perceptual, ignoring, treating as Display class\n",
      "\n"
     ]
    }
   ],
   "source": [
    "tabula.convert_into(\"bauran-energi-nasional-2020.pdf\", \"kapasitas_terpasang_PLTS.csv\", pages=110)"
   ]
  },
  {
   "cell_type": "code",
   "execution_count": 13,
   "metadata": {},
   "outputs": [],
   "source": [
    "def convert2csv(fileSourceName, fileTargetName, pageNum):\n",
    "    '''\n",
    "    convert2csv is a function to scrap table in pdf into csv format.\n",
    "    It takes three parameters, namely:\n",
    "            1) fileSourceName --> in PDF format;\n",
    "            2) fileTargetName --> in csv format;\n",
    "            3) pageNum ---------> positive integer;\n",
    "    \n",
    "    '''\n",
    "    fileSourceName = fileSourceName+'.pdf'\n",
    "    fileTargetName = fileTargetName+'.csv'\n",
    "    return tabula.convert_into(fileSourceName, fileTargetName, pages=pageNum)"
   ]
  },
  {
   "cell_type": "code",
   "execution_count": 14,
   "metadata": {},
   "outputs": [
    {
     "name": "stderr",
     "output_type": "stream",
     "text": [
      "Got stderr: Apr 05, 2021 2:37:06 PM org.apache.pdfbox.pdmodel.graphics.color.PDICCBased ensureDisplayProfile\n",
      "WARNING: ICC profile is Perceptual, ignoring, treating as Display class\n",
      "Apr 05, 2021 2:37:06 PM org.apache.pdfbox.pdmodel.graphics.color.PDICCBased ensureDisplayProfile\n",
      "WARNING: ICC profile is Perceptual, ignoring, treating as Display class\n",
      "Apr 05, 2021 2:37:18 PM org.apache.pdfbox.pdmodel.graphics.color.PDICCBased ensureDisplayProfile\n",
      "WARNING: ICC profile is Perceptual, ignoring, treating as Display class\n",
      "Apr 05, 2021 2:37:19 PM org.apache.pdfbox.pdmodel.graphics.color.PDICCBased ensureDisplayProfile\n",
      "WARNING: ICC profile is Perceptual, ignoring, treating as Display class\n",
      "\n"
     ]
    }
   ],
   "source": [
    "convert2csv('bauran-energi-nasional-2020', 'target_capaian_pemanfaatan_BBN_20152019', 111)"
   ]
  },
  {
   "cell_type": "code",
   "execution_count": null,
   "metadata": {},
   "outputs": [],
   "source": []
  }
 ],
 "metadata": {
  "kernelspec": {
   "display_name": "Python 3",
   "language": "python",
   "name": "python3"
  },
  "language_info": {
   "codemirror_mode": {
    "name": "ipython",
    "version": 3
   },
   "file_extension": ".py",
   "mimetype": "text/x-python",
   "name": "python",
   "nbconvert_exporter": "python",
   "pygments_lexer": "ipython3",
   "version": "3.8.2"
  }
 },
 "nbformat": 4,
 "nbformat_minor": 4
}
